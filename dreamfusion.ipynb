{
 "cells": [
  {
   "cell_type": "markdown",
   "source": [
    "## Run Stable Dreamfusion with Gradio"
   ],
   "metadata": {}
  },
  {
   "cell_type": "code",
   "execution_count": null,
   "source": [
    "!pip install -r requirements.txt\n",
    "\n",
    "# (optional) install nvdiffrast for exporting textured mesh (if use --save_mesh)\n",
    "!pip install git+https://github.com/NVlabs/nvdiffrast/\n",
    "\n",
    "# (optional) install CLIP guidance for the dreamfield setting\n",
    "!pip install git+https://github.com/openai/CLIP.git\n"
   ],
   "outputs": [],
   "metadata": {}
  },
  {
   "cell_type": "code",
   "execution_count": null,
   "source": [
    "!python gradio_app.py --need_share True # open in web browser\n"
   ],
   "outputs": [],
   "metadata": {}
  }
 ],
 "metadata": {
  "orig_nbformat": 4,
  "language_info": {
   "name": "python"
  }
 },
 "nbformat": 4,
 "nbformat_minor": 2
}