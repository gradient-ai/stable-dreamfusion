{
 "cells": [
  {
   "cell_type": "markdown",
   "source": [
    "## Run Stable Dreamfusion with Gradio\n",
    "\n",
    "### install requirements"
   ],
   "metadata": {}
  },
  {
   "cell_type": "code",
   "execution_count": null,
   "source": [
    "!pip install -r requirements.txt\n",
    "\n",
    "# (optional) install nvdiffrast for exporting textured mesh (if use --save_mesh)\n",
    "!pip install git+https://github.com/NVlabs/nvdiffrast/\n",
    "\n",
    "# (optional) install CLIP guidance for the dreamfield setting\n",
    "!pip install git+https://github.com/openai/CLIP.git\n",
    "!pip install gradio\n",
    "!pip install -U transformers"
   ],
   "outputs": [],
   "metadata": {}
  },
  {
   "cell_type": "code",
   "execution_count": null,
   "source": [
    "# install all extension modules\n",
    "!bash scripts/install_ext.sh\n",
    "\n",
    "# if you want to install manually, here is an example:\n",
    "!pip install ./raymarching # install to python path (you still need the raymarching/ folder, since this only installs the built extension.)"
   ],
   "outputs": [],
   "metadata": {}
  },
  {
   "cell_type": "markdown",
   "source": [
    "## Run Dreamfusion"
   ],
   "metadata": {}
  },
  {
   "cell_type": "code",
   "execution_count": null,
   "source": [
    "!python main.py --text \"a hamburger\" --workspace trial -O"
   ],
   "outputs": [],
   "metadata": {}
  },
  {
   "cell_type": "code",
   "execution_count": null,
   "source": [
    "#  currently not working\n",
    "!python gradio_app.py --need_share True # open in web brow\n",
    "\n"
   ],
   "outputs": [],
   "metadata": {}
  }
 ],
 "metadata": {
  "orig_nbformat": 4,
  "language_info": {
   "name": "python"
  }
 },
 "nbformat": 4,
 "nbformat_minor": 2
}